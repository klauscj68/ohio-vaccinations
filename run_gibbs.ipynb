{
 "cells": [
  {
   "cell_type": "markdown",
   "id": "a2622ab6",
   "metadata": {},
   "source": [
    "# Bayesian inference of $R_0$ under assortative mixing\n",
    "This notebook demonstrates the workflow for running Bayesian inference of model parameters. To run\n",
    "1. Parameters to be inferred and their ranges are specified in gibbs.jl\n",
    "2. Parameters which are fixed and not inferred are set in common.jl. In particular, the mixing parameter is specified in common.jl\n",
    "3. Time series data for daily incidence and vaccination rates are specified by csv's whose file names are given in common.jl \n",
    "4. The remaining options needed to be specified in this notebook are given in the Inputs section.<br><br>\n",
    "For longer chains, the inference can be run from terminal imitating the work flow below. The output csv's can be used to resume sampling from where the chain last left off. The output of the runs can then be analyzed using the postprocess_gibbs.ipynb notebook."
   ]
  },
  {
   "cell_type": "markdown",
   "id": "49479c5c",
   "metadata": {},
   "source": [
    "## Load libraries"
   ]
  },
  {
   "cell_type": "code",
   "execution_count": null,
   "id": "46aed743",
   "metadata": {},
   "outputs": [],
   "source": [
    "include(\"common.jl\"); include(\"odesolver.jl\"); include(\"gibbs.jl\");"
   ]
  },
  {
   "cell_type": "markdown",
   "id": "ca5723ea",
   "metadata": {},
   "source": [
    "## Inputs"
   ]
  },
  {
   "cell_type": "code",
   "execution_count": null,
   "id": "27a9b087",
   "metadata": {},
   "outputs": [],
   "source": [
    "# Number of mcmc samples\n",
    "nsmp = 1000;\n",
    "\n",
    "# Mixing parameters for MCMC\n",
    "#  Fraction of Metropolis-Hastings draws (vs Gibbs)\n",
    "MHmix = 0.2;\n",
    "\n",
    "#  Fraction of random-walk Metropolis-within-Gibbs draws\n",
    "RWmix = 0.625;"
   ]
  },
  {
   "cell_type": "markdown",
   "id": "62f9d5e5",
   "metadata": {},
   "source": [
    "## Run the sampler "
   ]
  },
  {
   "cell_type": "code",
   "execution_count": null,
   "id": "e1229a1c",
   "metadata": {},
   "outputs": [],
   "source": [
    "gibbsmcmc(nsmp;MHmix=MHmix,RWmix=RWmix);"
   ]
  }
 ],
 "metadata": {
  "kernelspec": {
   "display_name": "Julia 1.6.0",
   "language": "julia",
   "name": "julia-1.6"
  },
  "language_info": {
   "file_extension": ".jl",
   "mimetype": "application/julia",
   "name": "julia",
   "version": "1.6.0"
  }
 },
 "nbformat": 4,
 "nbformat_minor": 5
}
