{
 "cells": [
  {
   "cell_type": "markdown",
   "metadata": {},
   "source": [
    "# Analyze the output of Bayesian Fitting\n",
    "To run this notebook for analyzing an already performed MCMC sampling of the posterior: <br>\n",
    "1. Multiple MCMC runs for a single chain should be placed in consecutive folders titled \"Run1\",\"Run2\",etc... . <br> If only one run was conducted, this should be placed in a folder titled \"Run1\"\n",
    "2. Update the idbeg and idend values in \"Load libraries and data\" to match the Run folders containing your simulation <br>\n",
    "3. Update common.jl's datamat to match your mcmc-chain's simulated time span if it doesn't match already <br>\n",
    "4. Set the options under \"Declare Notebook Options\"\n",
    "## Load libraries and data"
   ]
  },
  {
   "cell_type": "code",
   "execution_count": null,
   "metadata": {},
   "outputs": [],
   "source": [
    "using CSV, DataFrames, Plots, Measures, Statistics\n",
    "pyplot();\n",
    "\n",
    "# Load MCMC library\n",
    "include(\"common.jl\"); include(\"odesolver.jl\"); include(\"gibbs.jl\");\n",
    "\n",
    "# Load data\n",
    "idbeg = 1; idend = 1;\n",
    "M_mcmc,M_err = mergeoutputs(idbeg,idend); nsmp = size(M_mcmc)[2];\n",
    "println(\"$nsmp samples taken ...\");"
   ]
  },
  {
   "cell_type": "markdown",
   "metadata": {},
   "source": [
    "## Declare Notebook Options"
   ]
  },
  {
   "cell_type": "code",
   "execution_count": null,
   "metadata": {},
   "outputs": [],
   "source": [
    "# Declare whether a change point analysis was performed\n",
    "flagΔpt = true;\n",
    "\n",
    "# Declare final day data was fit to\n",
    "#  (Notebook assumes data() outputs tspan[2] for gibbs trajectories)\n",
    "dayfit = Date(\"2021-09-02\");\n",
    "\n",
    "# Trace plots shown every nstep\n",
    "nstep = 1;\n",
    "\n",
    "# Specify range of middle quantiles for MCMC posteriors w/wout σ-errors\n",
    "qthresh = .95;\n",
    "σthresh = .95;"
   ]
  },
  {
   "cell_type": "markdown",
   "metadata": {},
   "source": [
    "### Prepare ODH data"
   ]
  },
  {
   "cell_type": "code",
   "execution_count": null,
   "metadata": {},
   "outputs": [],
   "source": [
    "# Load ODH data\n",
    "fname = sheet.csv_odh; dfodh = CSV.read(fname,DataFrame);\n",
    "cols = [\"0-9\",\"10-19\",\"20-29\",\"30-39\",\"40-49\",\"50-59\",\"60-69\",\"70-79\",\"80+\"];\n",
    "\n",
    "# Declare initial and final days for trajectories\n",
    "dates = dfodh[!,:time];\n",
    "day0 = Date(\"2020-01-01\");\n",
    "dayi = day0 + Day(sheet.tspan[1]);\n",
    "daym = day0 + Day(sheet.tspan[2]);"
   ]
  },
  {
   "cell_type": "code",
   "execution_count": null,
   "metadata": {},
   "outputs": [],
   "source": [
    "dayodh = dates[end];\n",
    "dayf = maximum([dayodh,daym]);\n",
    "\n",
    "ti = getfield(dayi-day0,:value); tf = getfield(dayf-day0,:value); tm = getfield(daym-day0,:value); \n",
    "tfit = getfield(dayfit-day0,:value); todh = getfield(dayodh-day0,:value)\n",
    "pnow = plot(getfield.(dfodh[1:end-2,:time] .- Date(\"2020-01-01\"),:value),\n",
    "    dfodh[1:end-2,:daily_confirm]/1000,labels=\"\",linewidth=1,xticks=LinRange(0,608,5),\n",
    "        guidefont=14,titlefont=16,tickfont=12,ylabel=\"reported infections (thousands)\",xlabel=\"date\",\n",
    "        size=(650,375),margin=5mm);\n",
    "vline!(getfield.([dayi,dayfit].- Date(\"2020-01-01\"),:value),labels=\"\",linewidth=1);\n",
    "plot!(xformatter = (x->Dates.format(Day(x)+Date(\"2020-01-01\"),\"mm/dd\")))\n",
    "savefig(\"odh.pdf\");"
   ]
  },
  {
   "cell_type": "markdown",
   "metadata": {},
   "source": [
    "# Analyze MCMC trajectories"
   ]
  },
  {
   "cell_type": "code",
   "execution_count": null,
   "metadata": {},
   "outputs": [],
   "source": [
    "# Compute the error bands which include ind incr error\n",
    "σs = M_mcmc[177,:];\n",
    "avgσ = sum(σs)/length(σs); \n",
    "confσ = quantile(σs,σthresh);\n",
    "Δσs = flagΔpt ? M_mcmc[187,:] : [NaN];\n",
    "confΔσ = flagΔpt ? quantile(Δσs,σthresh) : NaN;\n",
    "days = dayi-day0;\n",
    "\n",
    "σMᵗʳ_high = deepcopy(Mᵗʳ);\n",
    "σMᵗʳ_low = deepcopy(Mᵗʳ);\n",
    "ntrajs = size(Mᵗʳ)[1];\n",
    "\n",
    "# Loop over all mcmc smp's, age groups, days and include their own errors\n",
    "gen = [1,1,0];\n",
    "varnow = 0.; ptid = Inf; Δσnow = 0.;\n",
    "for k=1:ntrajs*9*dwnsmp\n",
    "    # cycle generator:\n",
    "    if gen[3] != dwnsmp\n",
    "        gen[3] += 1;\n",
    "    elseif gen[2] != 9\n",
    "        gen[2] += 1; gen[3] = 1;\n",
    "    else\n",
    "        gen[1] += 1; gen[2] = 1; gen[3] = 1;\n",
    "    end\n",
    "    \n",
    "    smp = gen[1]; aid = gen[2]; tid = gen[3];\n",
    "    col = (aid-1)*dwnsmp+tid;\n",
    "    \n",
    "    # Update the var and Δpt info as needed\n",
    "    if tid == 1\n",
    "        # Reset var if new age group\n",
    "        varnow = 0.;\n",
    "        \n",
    "        # Find new Δpt value if new sample\n",
    "        if flagΔpt&&(aid == 1)\n",
    "            Δptbest = M_mcmc[182,smp]; Δσnow = M_mcmc[187,smp];\n",
    "            ptid = floor(Δptbest - days.value); ptid = (ptid > length(quantlow[:,1])-1) ? length(quantlow[:,1])-1 : ptid;\n",
    "        end\n",
    "    end\n",
    "    \n",
    "    # Determine the appropriate std dev across change point\n",
    "    σnow = M_mcmc[177,smp];\n",
    "    if !flagΔpt\n",
    "        varnow += σnow^2;\n",
    "    else\n",
    "        varnow = (tid <= ptid) ? varnow + σnow^2 : varnow + Δσnow^2; \n",
    "    end\n",
    "    \n",
    "    # Compute errors\n",
    "    σMᵗʳ_high[smp,col] += 2*√(varnow);\n",
    "    σMᵗʳ_low[smp,col]  -= 2*√(varnow);\n",
    "    σMᵗʳ_low[smp,col]  = maximum([σMᵗʳ_low[smp,col],0.]);\n",
    "end\n",
    "    \n",
    "# Compute the σthresh quantiles for these\n",
    "σMquants = Matrix{Float64}(undef,9*dwnsmp,2);\n",
    "for i=1:9*dwnsmp\n",
    "    σMquants[i,:] = [quantile(σMᵗʳ_low[:,i],(1-qthresh)/2) quantile(σMᵗʳ_high[:,i],1-(1-qthresh)/2)];\n",
    "end\n",
    "σquantlow = reshape(σMquants[:,1],dwnsmp,9); σquanthigh = reshape(σMquants[:,2],dwnsmp,9);\n",
    "myσcolor = :blue; # Color for σMCMC bands"
   ]
  },
  {
   "cell_type": "code",
   "execution_count": null,
   "metadata": {},
   "outputs": [],
   "source": [
    "# Plot the data\n",
    "ymax = maximum(convert(Matrix,dfodh[ti:todh,2:end-2])) + 1000;\n",
    "\n",
    "p1 = plot(ti:todh,dfodh[!,\"0-9\"][ti:todh],labels=\"reported\",title=\"0-9\",size=(200,200)); \n",
    "quantmean = .5*quantlow[:,1] + .5*quanthigh[:,1]\n",
    "vline!([tfit],labels=\"\",color=:green);\n",
    "plot!(qttaxis[1:dwnsmp], quantmean, ribbon=(quantmean-σquantlow[:,1],σquanthigh[:,1]-quantmean),\n",
    "      ylims=(0.,ymax),labels=\"predicted 7 day avg\", fillalpha=.2, color=myσcolor,legend=:topleft,linestyle=:dash,\n",
    "      guidefont=12,titlefont=12,tickfont=8,xticks=LinRange(425,620,4),xlims=(425,620));\n",
    "plot!(xformatter = (x->Dates.format(Day(x)+Date(\"2020-01-01\"),\"mm/dd\")))\n",
    "\n",
    "p2 = plot(ti:todh,dfodh[!,\"10-19\"][ti:todh],labels=\"\",title=\"10-19\",size=(200,200)); \n",
    "quantmean = .5*quantlow[:,2] + .5*quanthigh[:,2]\n",
    "vline!([tfit],labels=\"\",color=:green);\n",
    "plot!(qttaxis[1:dwnsmp], quantmean, ribbon=(quantmean-σquantlow[:,2],σquanthigh[:,2]-quantmean),linestyle=:dash,\n",
    "      ylims=(0.,ymax),labels=\"\", fillalpha=.2, color=myσcolor,\n",
    "      guidefont=12,titlefont=12,tickfont=8,xticks=LinRange(425,620,4),xlims=(425,620));\n",
    "plot!(xformatter = (x->Dates.format(Day(x)+Date(\"2020-01-01\"),\"mm/dd\")))\n",
    "\n",
    "p3 = plot(ti:todh,dfodh[!,\"20-29\"][ti:todh],labels=\"\",title=\"20-29\",size=(200,200)); \n",
    "quantmean = .5*quantlow[:,3] + .5*quanthigh[:,3]\n",
    "vline!([tfit],labels=\"\",color=:green);\n",
    "plot!(qttaxis[1:dwnsmp], quantmean, ribbon=(quantmean-σquantlow[:,3],σquanthigh[:,3]-quantmean),linestyle=:dash,\n",
    "      ylims=(0.,ymax),labels=\"\", fillalpha=.2, color=myσcolor,\n",
    "      guidefont=12,titlefont=12,tickfont=8,xticks=LinRange(425,620,4),xlims=(425,620));\n",
    "plot!(xformatter = (x->Dates.format(Day(x)+Date(\"2020-01-01\"),\"mm/dd\")))\n",
    "\n",
    "p4 = plot(ti:todh,dfodh[!,\"30-39\"][ti:todh],labels=\"\",title=\"30-39\",size=(200,200)); \n",
    "quantmean = .5*quantlow[:,4] + .5*quanthigh[:,4]\n",
    "vline!([tfit],labels=\"\",color=:green);\n",
    "plot!(qttaxis[1:dwnsmp], quantmean, ribbon=(quantmean-σquantlow[:,4],σquanthigh[:,4]-quantmean),linestyle=:dash,\n",
    "      ylims=(0.,ymax),labels=\"\", fillalpha=.2, color=myσcolor,\n",
    "      guidefont=12,titlefont=12,tickfont=8,xticks=LinRange(425,620,4),xlims=(425,620));\n",
    "plot!(xformatter = (x->Dates.format(Day(x)+Date(\"2020-01-01\"),\"mm/dd\")))\n",
    "\n",
    "p5 = plot(ti:todh,dfodh[!,\"40-49\"][ti:todh],labels=\"\",title=\"40-49\",size=(200,200)); \n",
    "quantmean = .5*quantlow[:,5] + .5*quanthigh[:,5]\n",
    "vline!([tfit],labels=\"\",color=:green);\n",
    "plot!(qttaxis[1:dwnsmp], quantmean, ribbon=(quantmean-σquantlow[:,5],σquanthigh[:,5]-quantmean),linestyle=:dash,\n",
    "      ylims=(0.,ymax),labels=\"\", fillalpha=.2, color=myσcolor,\n",
    "      guidefont=12,titlefont=12,tickfont=8,xticks=LinRange(425,620,4),xlims=(425,620));\n",
    "plot!(xformatter = (x->Dates.format(Day(x)+Date(\"2020-01-01\"),\"mm/dd\")))\n",
    "\n",
    "p6 = plot(ti:todh,dfodh[!,\"50-59\"][ti:todh],labels=\"\",title=\"50-59\",size=(200,200)); \n",
    "quantmean = .5*quantlow[:,6] + .5*quanthigh[:,6]\n",
    "vline!([tfit],labels=\"\",color=:green);\n",
    "plot!(qttaxis[1:dwnsmp], quantmean, ribbon=(quantmean-σquantlow[:,6],σquanthigh[:,6]-quantmean),linestyle=:dash,\n",
    "      ylims=(0.,ymax),labels=\"\", fillalpha=.2, color=myσcolor,\n",
    "      guidefont=12,titlefont=12,tickfont=8,xticks=LinRange(425,620,4),xlims=(425,620));\n",
    "plot!(xformatter = (x->Dates.format(Day(x)+Date(\"2020-01-01\"),\"mm/dd\")))\n",
    "\n",
    "p7 = plot(ti:todh,dfodh[!,\"60-69\"][ti:todh],labels=\"\",title=\"60-69\",size=(200,200),\n",
    "          xlabel=\"date\",ylabel=\"daily infections\"); \n",
    "quantmean = .5*quantlow[:,7] + .5*quanthigh[:,7]\n",
    "vline!([tfit],labels=\"\",color=:green);\n",
    "plot!(qttaxis[1:dwnsmp], quantmean, ribbon=(quantmean-σquantlow[:,7],σquanthigh[:,7]-quantmean),linestyle=:dash,\n",
    "      ylims=(0.,ymax),labels=\"\", fillalpha=.2, color=myσcolor,\n",
    "      guidefont=12,titlefont=12,tickfont=8,xticks=LinRange(425,620,4),xlims=(425,620));\n",
    "plot!(xformatter = (x->Dates.format(Day(x)+Date(\"2020-01-01\"),\"mm/dd\")))\n",
    "\n",
    "p8 = plot(ti:todh,dfodh[!,\"70-79\"][ti:todh],labels=\"\",title=\"70-79\",size=(200,200)); \n",
    "quantmean = .5*quantlow[:,8] + .5*quanthigh[:,8]\n",
    "vline!([tfit],labels=\"\",color=:green);\n",
    "plot!(qttaxis[1:dwnsmp], quantmean, ribbon=(quantmean-σquantlow[:,8],σquanthigh[:,8]-quantmean),linestyle=:dash,\n",
    "      ylims=(0.,ymax),labels=\"\", fillalpha=.2, color=myσcolor,\n",
    "      guidefont=12,titlefont=12,tickfont=8,xticks=LinRange(425,620,4),xlims=(425,620));\n",
    "plot!(xformatter = (x->Dates.format(Day(x)+Date(\"2020-01-01\"),\"mm/dd\")))\n",
    "\n",
    "p9 = plot(ti:todh,dfodh[!,\"80+\"][ti:todh],labels=\"\",title=\"80+\",size=(200,200)); \n",
    "quantmean = .5*quantlow[:,9] + .5*quanthigh[:,9]\n",
    "vline!([tfit],labels=\"\",color=:green);\n",
    "plot!(qttaxis[1:dwnsmp], quantmean, ribbon=(quantmean-σquantlow[:,9],σquanthigh[:,9]-quantmean),linestyle=:dash,\n",
    "      ylims=(0.,ymax),labels=\"\", fillalpha=.2, color=myσcolor,\n",
    "      guidefont=12,titlefont=12,tickfont=8,xticks=LinRange(425,620,4),xlims=(425,620));\n",
    "plot!(xformatter = (x->Dates.format(Day(x)+Date(\"2020-01-01\"),\"mm/dd\")))\n",
    "\n",
    "println(\"Dates run from $dayi to $dayf while simulated up to $daym\")\n",
    "lay = @layout [a b c; d e f; g h i];\n",
    "plot(p1,p2,p3,p4,p5,p6,p7,p8,p9, layout=lay, size = (800,500))\n",
    "savefig(\"prediction.pdf\");"
   ]
  },
  {
   "cell_type": "code",
   "execution_count": null,
   "metadata": {},
   "outputs": [],
   "source": [
    "# Compute model uncertainty in prediction aggregated across all age groups\n",
    "Mtrajsagg = reshape(Mtrajs,:,9,nsmp); Mtrajsagg = reshape(sum(Mtrajsagg,dims=2),:,nsmp);\n",
    "σMtrajsagg_high = deepcopy(Mtrajsagg);\n",
    "σMtrajsagg_low = deepcopy(Mtrajsagg);\n",
    "gen = [0,1];\n",
    "varnow = 0.; ptid = Inf; Δσnow = 0.;\n",
    "for k=1:prod(size(Mtrajsagg))\n",
    "    if gen[1]!=size(Mtrajsagg)[1]\n",
    "        gen[1]+=1;\n",
    "    else\n",
    "        gen[2]+=1;\n",
    "        gen[1]=1;\n",
    "    end\n",
    "    i=gen[1]; smp=gen[2];\n",
    "    \n",
    "    # Update the var and Δpt info as needed\n",
    "    if i == 1\n",
    "        varnow = 0.;\n",
    "        \n",
    "        # Find new Δpt value if new sample\n",
    "        if flagΔpt&&(i == 1)\n",
    "            Δptbest = M_mcmc[182,smp]; Δσnow = M_mcmc[187,smp];\n",
    "            ptid = floor(Δptbest - days.value); ptid = (ptid > length(quantlow[:,1])-1) ? length(quantlow[:,1])-1 : ptid;\n",
    "        end\n",
    "    end\n",
    "    \n",
    "    # Determine the appropriate std dev across change point\n",
    "    σnow = M_mcmc[177,smp];\n",
    "    if !flagΔpt\n",
    "        varnow += σnow^2;\n",
    "    else\n",
    "        varnow = (i <= ptid) ? varnow + σnow^2 : varnow + Δσnow^2; \n",
    "    end\n",
    "    \n",
    "    σMtrajsagg_high[i,smp] += 2*√(varnow)*3;\n",
    "    σMtrajsagg_low[i,smp]  -= 2*√(varnow)*3;\n",
    "    σMtrajsagg_low[i,smp]  = maximum([σMtrajsagg_low[i,smp],0.]);\n",
    "end\n",
    "\n",
    "\n",
    "σMaggquants = Matrix{Float64}(undef,dwnsmp,2);\n",
    "for i=1:dwnsmp\n",
    "    σMaggquants[i,:] = [quantile(σMtrajsagg_low[i,:],(1-qthresh)/2) quantile(σMtrajsagg_high[i,:],1-(1-qthresh)/2)];\n",
    "end"
   ]
  },
  {
   "cell_type": "code",
   "execution_count": null,
   "metadata": {},
   "outputs": [],
   "source": [
    "# Plot the aggregate model prediction\n",
    "pagg = plot(getfield.(dfodh[ti:todh,:time] .- Date(\"2020-01-01\"),:value),\n",
    "            dfodh[ti:todh,:daily_confirm],linewidth=1,\n",
    "            guidefont=12,titlefont=12,tickfont=12,\n",
    "            size=(350,250),\n",
    "            legendfont=8,legend=:topleft,\n",
    "            labels=\"ODH daily cases\");\n",
    "\n",
    "quantmean = .5*σMaggquants[:,1] + .5*σMaggquants[:,2]\n",
    "plot!(qttaxis[1:dwnsmp], quantmean, ribbon=(quantmean-σMaggquants[:,1],σMaggquants[:,2]-quantmean),\n",
    "      fillalpha=.2, color=myσcolor,linestyle=:dash,\n",
    "      ylims=(0,10000),\n",
    "      guidefont=12,titlefont=12,tickfont=12,xticks=LinRange(425,620,4),xlims=(425,620),\n",
    "      yticks=LinRange(0,10000,3),\n",
    "      labels=\"predicted 7 day avg\");\n",
    "vline!([tfit],labels=\"\",color=:green);\n",
    "plot!(xformatter = (x->Dates.format(Day(x)+Date(\"2020-01-01\"),\"mm/dd\")),\n",
    "      yformatter = (x->split(string(x/1000),\".\")[1]*\"k\") )"
   ]
  },
  {
   "cell_type": "code",
   "execution_count": null,
   "metadata": {},
   "outputs": [],
   "source": [
    "savefig(\"predictionagg.pdf\");"
   ]
  },
  {
   "cell_type": "code",
   "execution_count": null,
   "metadata": {},
   "outputs": [],
   "source": [
    "ENV[\"COLUMNS\"] = 1000; ENV[\"ROWS\"] = 1000;\n",
    "println(\"Best parameters:\")\n",
    "df = DataFrame(Dict{String,Float64}(\"L1 Err\"=>M_err[idbest],\"r0\"=>M_mcmc[12,idbest],\n",
    "                                    \"α\"=>M_mcmc[31,idbest],\"ω\"=>M_mcmc[32,idbest],\n",
    "                                    \"rptλ\"=>M_mcmc[176,idbest],\"bayσ\"=>M_mcmc[177,idbest],\n",
    "                                    \"vι0\"=>M_mcmc[179,idbest],\n",
    "                                    \"rptλE\"=>M_mcmc[180,idbest],\"rptλI\"=>M_mcmc[181,idbest],\n",
    "                                    \"Δpt\"=>M_mcmc[182,idbest],\"Δr0\"=>M_mcmc[183,idbest],\n",
    "                                    \"Δα\"=>M_mcmc[184,idbest],\"Δω\"=>M_mcmc[185,idbest],\n",
    "                                    \"Δrptλ\"=>M_mcmc[186,idbest],\"Δbayσ\"=>M_mcmc[187,idbest]))"
   ]
  },
  {
   "cell_type": "markdown",
   "metadata": {},
   "source": [
    "## Collect marginal distributions\n",
    "Note that $\\Delta$ refers to a parameter estimated for after the change point except in the $\\Delta$pt case when it stands for the change point date itself."
   ]
  },
  {
   "cell_type": "code",
   "execution_count": null,
   "metadata": {},
   "outputs": [],
   "source": [
    "# Posterior means\n",
    "dfsmp = DataFrame(:r0=>M_mcmc[12,:],:α=>M_mcmc[31,:],:ω=>M_mcmc[32,:],:rptλ=>M_mcmc[176,:],:bayσ=>M_mcmc[177,:],\n",
    "                  :Δr0=>M_mcmc[183,:],:Δα=>M_mcmc[184,:],:Δω=>M_mcmc[185,:],:Δrptλ=>M_mcmc[186,:],:Δbayσ=>M_mcmc[187,:]);\n",
    "describe(dfsmp)"
   ]
  },
  {
   "cell_type": "code",
   "execution_count": null,
   "metadata": {
    "scrolled": true
   },
   "outputs": [],
   "source": [
    "p1 = histogram(M_mcmc[12,:],normalize=:probability, labels=\"\", title=\"r0\",guidefonts = 12);\n",
    "p2 = histogram(M_mcmc[31,:],normalize=:probability, labels=\"\", title=\"α\");\n",
    "p3 = histogram(M_mcmc[32,:],normalize=:probability, labels=\"\", title = \"ω\");\n",
    "p4 = histogram(M_mcmc[176,:],normalize=:probability, labels=\"\", title=\"rptλ\");\n",
    "p5 = histogram(M_mcmc[177,:],normalize=:probability, labels=\"\", title=\"bayσ\");\n",
    "p7 = histogram(M_mcmc[179,:],normalize=:probability,labels=\"\",title=\"vι0\");\n",
    "\n",
    "lay = @layout [a b;c d; e f];\n",
    "plot(p2,p3,p1,p4,p5,p7, layout=lay, size=(850,425))\n",
    "savefig(\"marginals.pdf\")"
   ]
  },
  {
   "cell_type": "code",
   "execution_count": null,
   "metadata": {},
   "outputs": [],
   "source": [
    "# Change point marginals\n",
    "if flagΔpt\n",
    "    p1 = histogram(M_mcmc[183,:],normalize=:probability, labels=\"\", title=\"Δr0\");\n",
    "    p2 = histogram(M_mcmc[184,:],normalize=:probability, labels=\"\", title=\"Δα\");\n",
    "    p3 = histogram(M_mcmc[185,:],normalize=:probability, labels=\"\", title = \"Δω\");\n",
    "    p4 = histogram(M_mcmc[186,:],normalize=:probability, labels=\"\", title=\"Δrptλ\");\n",
    "    p5 = histogram(M_mcmc[187,:],normalize=:probability, labels=\"\", title=\"Δbayσ\");\n",
    "    #  If Δpt was Infty substitute dummy plot for histogram\n",
    "    p7 = (minimum(M_mcmc[182,:]) != Inf) ? histogram(M_mcmc[182,:],normalize=:probability,labels=\"\",title=\"Δpt\") : plot([0.,0.],[0.,0.],labels=\"\",title=\"Did not run Δpt\") ;\n",
    "    \n",
    "    lay = @layout [g h; a b; c d];\n",
    "    plot(p7,p5,p2,p3,p1,p4, layout=lay, size=(850,425))\n",
    "    savefig(\"marginals_dltpt.pdf\")\n",
    "end"
   ]
  },
  {
   "cell_type": "markdown",
   "metadata": {},
   "source": [
    "## Trace Plots"
   ]
  },
  {
   "cell_type": "code",
   "execution_count": null,
   "metadata": {},
   "outputs": [],
   "source": [
    "q1 = plot(M_mcmc[12,1:nstep:end],labels=\"\", title=\"r0\");\n",
    "q2 = plot(M_mcmc[31,1:nstep:end],labels=\"\", title=\"α\");\n",
    "q3 = plot(M_mcmc[32,1:nstep:end],labels=\"\", title = \"ω\");\n",
    "q4 = plot(M_mcmc[176,1:nstep:end],labels=\"\", title=\"rptλ\");\n",
    "q5 = plot(M_mcmc[177,1:nstep:end],labels=\"\", title=\"bayσ\");\n",
    "q7 = plot(M_mcmc[179,1:nstep:end],labels=\"\",title=\"vι0\");\n",
    "\n",
    "lay = @layout [a b;c d; e f];\n",
    "plot(q2,q3,q1,q4,q5,q7, layout=lay, size=(850,425))\n",
    "savefig(\"trace.pdf\")"
   ]
  },
  {
   "cell_type": "code",
   "execution_count": null,
   "metadata": {},
   "outputs": [],
   "source": [
    "# Change point trace plots\n",
    "if flagΔpt\n",
    "    q1 = plot(M_mcmc[183,1:nstep:end],labels=\"\", title=\"Δr0\");\n",
    "    q2 = plot(M_mcmc[184,1:nstep:end],labels=\"\", title=\"Δα\");\n",
    "    q3 = plot(M_mcmc[185,1:nstep:end],labels=\"\", title = \"Δω\");\n",
    "    q4 = plot(M_mcmc[186,1:nstep:end],labels=\"\", title=\"Δrptλ\");\n",
    "    q5 = plot(M_mcmc[187,1:nstep:end],labels=\"\", title=\"Δbayσ\");\n",
    "    q7 = plot(M_mcmc[182,1:nstep:end],labels=\"\",title=\"Δpt\");\n",
    "    \n",
    "    lay = @layout [g h; a b; c d];\n",
    "    plot(q7,q5,q2,q3,q1,q4, layout=lay, size=(850,425))\n",
    "    savefig(\"trace_dltpt.pdf\")\n",
    "end"
   ]
  },
  {
   "cell_type": "markdown",
   "metadata": {},
   "source": [
    "## $\\Delta$pt by dates"
   ]
  },
  {
   "cell_type": "code",
   "execution_count": null,
   "metadata": {},
   "outputs": [],
   "source": [
    "if flagΔpt\n",
    "    p1 = histogram(M_mcmc[182,:],labels=\"\",title=\"Δpt\",xticks=LinRange(553,559,3),xlims=(553,559),\n",
    "                   guidefont=12,titlefont=12,tickfont=8,linewidth=0,bins=553:559,normalize=:pdf)\n",
    "    plot!(xformatter = (x->Dates.format(Day(x)+Date(\"2020-01-01\"),\"mm/dd\")))\n",
    "    q1 = plot(M_mcmc[182,1:nstep:end],labels=\"\",title=\"Δpt\",xticks=false,\n",
    "              guidefont=12,titlefont=12,tickfont=8,ylims=(554,562),\n",
    "              yticks=LinRange(554,562,5));\n",
    "    plot!(yformatter = (x->Dates.format(Day(x)+Date(\"2020-01-01\"),\"mm/dd\")))\n",
    "    \n",
    "    lay = @layout [a b];\n",
    "    plot(p1,q1,layout=lay,size=(600,250))\n",
    "    savefig(\"dltpt.pdf\");\n",
    "end"
   ]
  },
  {
   "cell_type": "code",
   "execution_count": null,
   "metadata": {},
   "outputs": [],
   "source": []
  }
 ],
 "metadata": {
  "kernelspec": {
   "display_name": "Julia 1.6.0",
   "language": "julia",
   "name": "julia-1.6"
  },
  "language_info": {
   "file_extension": ".jl",
   "mimetype": "application/julia",
   "name": "julia",
   "version": "1.6.0"
  }
 },
 "nbformat": 4,
 "nbformat_minor": 2
}
