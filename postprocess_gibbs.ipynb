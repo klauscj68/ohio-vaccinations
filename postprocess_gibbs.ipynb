{
 "cells": [
  {
   "cell_type": "markdown",
   "metadata": {},
   "source": [
    "# Analyze the output of Bayesian Fitting\n",
    "To run this notebook on your MCMC: <br>\n",
    "1. Update the idbeg and idend values to match the Run folders containing your simulation <br>\n",
    "2. Update common.jl's datamat to match your mcmc's chain's time span if it doesn't match already\n",
    "## Load libraries and data"
   ]
  },
  {
   "cell_type": "code",
   "execution_count": null,
   "metadata": {},
   "outputs": [],
   "source": [
    "# Activate the environment\n",
    "#using Pkg\n",
    "#Pkg.activate(\"\");\n",
    "using CSV, DataFrames, Plots, FileIO\n",
    "pyplot();\n",
    "\n",
    "# Load Bubar function library\n",
    "include(\"common.jl\"); include(\"odesolver.jl\"); include(\"gibbs.jl\");\n",
    "\n",
    "# Load data\n",
    "idbeg = 1; idend = 1;\n",
    "M_mcmc,M_err = mergeoutputs(idbeg,idend);\n",
    "nsmp = length(M_err); @assert nsmp == size(M_mcmc)[2] \"Number of samples not consistent\";\n",
    "println(\"$nsmp samples taken ...\");"
   ]
  },
  {
   "cell_type": "markdown",
   "metadata": {},
   "source": [
    "## Declare Notebook Options"
   ]
  },
  {
   "cell_type": "code",
   "execution_count": null,
   "metadata": {},
   "outputs": [],
   "source": [
    "#* Changed\n",
    "# Declare whether a change point analysis was performed\n",
    "flagΔpt = true;\n",
    "\n",
    "# Declare final day data was fit to\n",
    "#  (Notebook assumes data() outputs tspan[2] for gibbs trajectories)\n",
    "dayfit = Date(\"2021-08-16\");\n",
    "\n",
    "# Trace plots shown every nstep\n",
    "nstep = 1;\n",
    "\n",
    "# Specify range of middle quantiles for MCMC posteriors w/wout σ-errors\n",
    "qthresh = .95;\n",
    "σthresh = .95;"
   ]
  },
  {
   "cell_type": "markdown",
   "metadata": {},
   "source": [
    "## Analyze best fit"
   ]
  },
  {
   "cell_type": "markdown",
   "metadata": {},
   "source": [
    "### Prepare to run simulation"
   ]
  },
  {
   "cell_type": "code",
   "execution_count": null,
   "metadata": {},
   "outputs": [],
   "source": [
    "#* Changed\n",
    "# Find the best fit\n",
    "idbest = findfirst(M_err .== minimum(M_err));\n",
    "sheet = data(); T1,T2 = sheet.tspan;\n",
    "mydat,myaux = csvdat(M_mcmc[:,idbest],sheet.csv_vac,sheet.csv_odh);\n",
    "sheet = data(mydat); sheet.tspan[:] = [T1,T2];\n",
    "mydep = depmat(mydat,myaux); frc_M = vaxld(); # data used in sim"
   ]
  },
  {
   "cell_type": "code",
   "execution_count": null,
   "metadata": {},
   "outputs": [],
   "source": [
    "# Load ODH data\n",
    "fname = sheet.csv_odh; dfodh = CSV.read(fname,DataFrame);\n",
    "cols = [\"0-9\",\"10-19\",\"20-29\",\"30-39\",\"40-49\",\"50-59\",\"60-69\",\"70-79\",\"80+\"];\n",
    "\n",
    "# Declare initial and final days for trajectories\n",
    "dates = dfodh[!,:time]; # Vector of dates\n",
    "day0 = Date(\"2020-01-01\");\n",
    "dayi = day0 + Day(sheet.tspan[1]);\n",
    "daym = day0 + Day(sheet.tspan[2]);"
   ]
  },
  {
   "cell_type": "code",
   "execution_count": null,
   "metadata": {},
   "outputs": [],
   "source": [
    "#* Changed\n",
    "dayodh = dates[end];\n",
    "dayf = maximum([dayodh,daym]);\n",
    "\n",
    "ti = getfield(dayi-day0,:value); tf = getfield(dayf-day0,:value); tm = getfield(daym-day0,:value); \n",
    "tfit = getfield(dayfit-day0,:value); todh = getfield(dayodh-day0,:value)\n",
    "plot(dfodh[!,:time],dfodh[!,:daily_confirm],labels=\"\",title=\"ODH Reported Daily Infections\")\n",
    "vline!([dayi,dayfit],labels=\"\")\n",
    "savefig(\"odh.pdf\")"
   ]
  },
  {
   "cell_type": "markdown",
   "metadata": {},
   "source": [
    "#### Used to simulate the best fit to the last ODH day, so can compare after the fit to data"
   ]
  },
  {
   "cell_type": "code",
   "execution_count": null,
   "metadata": {},
   "outputs": [],
   "source": [
    "# Comment out if don't want to simulate to last ODH day\n",
    "mydat[:tspan] = [Float64(ti),Float64(tf)];\n",
    "sheet = data(mydat); mydep = depmat(mydat,myaux); \n",
    "frc_M = (isempty(sheet.csv_vac)) ? [0. 0.;1. 0.] : vaxld(); # data used in sim"
   ]
  },
  {
   "cell_type": "markdown",
   "metadata": {},
   "source": [
    "### Run the simulation"
   ]
  },
  {
   "cell_type": "code",
   "execution_count": null,
   "metadata": {},
   "outputs": [],
   "source": [
    "# Run the simulation\n",
    "tpts,ypts = odesolver(sheet,mydep,frc_M);\n",
    "\n",
    "# Aggregate ypts across unvax, vax, and unwilling for comparing to ODH\n",
    "Ypts = reshape(ypts,(27,Int64(length(ypts)/(27*length(tpts))),length(tpts)));\n",
    "U = Ypts[1:9,:,:]; V = Ypts[10:18,:,:]; X = Ypts[19:27,:,:];\n",
    "Ypts = U + V + X; # Ages x SEIR x Time\n",
    "\n",
    "# Find daily new infections\n",
    "#  Use ∫fdx ≈ ∑ᵢfᵢΔxᵢ = L*∑ᵢfᵢ/n\n",
    "Etot = Ypts[:,2,:];\n",
    "Zpts = Matrix{Float64}(undef,9,tf-ti);\n",
    "for i=ti:(tf-1)\n",
    "    for j=1:9\n",
    "        val1 = myinterp(tpts,Etot[j,:],Float64(i));\n",
    "        val2 = myinterp(tpts,Etot[j,:],Float64(i+1));\n",
    "        \n",
    "        Zpts[j,i-(ti-1)] = (1/sheet.d_E)*(val1+val2)/2;\n",
    "    end\n",
    "end\n",
    "\n",
    "#  Scale by reporting factor\n",
    "Zpts *= 1/myaux[:rptλ]*1/myaux[:rptλE];"
   ]
  },
  {
   "cell_type": "markdown",
   "metadata": {},
   "source": [
    "### Plot a Markov error distribution\n",
    "#### No moving average"
   ]
  },
  {
   "cell_type": "code",
   "execution_count": null,
   "metadata": {},
   "outputs": [],
   "source": [
    "#* Change\n",
    "# Noise = ODH-Model\n",
    "Noise = hcat(dfodh[!,\"0-9\"][ti:todh-1] - Zpts[1,1:todh-ti],\n",
    "         dfodh[!,\"10-19\"][ti:todh-1] - Zpts[2,1:todh-ti],\n",
    "         dfodh[!,\"20-29\"][ti:todh-1] - Zpts[3,1:todh-ti],\n",
    "         dfodh[!,\"30-39\"][ti:todh-1] - Zpts[4,1:todh-ti],\n",
    "         dfodh[!,\"40-49\"][ti:todh-1] - Zpts[5,1:todh-ti],\n",
    "         dfodh[!,\"50-59\"][ti:todh-1] - Zpts[6,1:todh-ti],\n",
    "         dfodh[!,\"60-69\"][ti:todh-1] - Zpts[7,1:todh-ti],\n",
    "         dfodh[!,\"70-79\"][ti:todh-1] - Zpts[8,1:todh-ti],\n",
    "         dfodh[!,\"80+\"][ti:todh-1] - Zpts[9,1:todh-ti]);\n",
    "Noiseᵗʳ = copy(transpose(Noise));\n",
    "\n",
    "# Array of Present and Future errors\n",
    "Mkverr = [Noiseᵗʳ[:,1:end-1][:] Noiseᵗʳ[:,2:end][:]]\n",
    "\n",
    "# Plot Markov error distribution\n",
    "histogram2d(Mkverr[:,1],Mkverr[:,2],xlabel=\"Present Noise\",ylabel=\"Future Noise\",title=\"Noise Distribution about Best Fit\")\n",
    "savefig(\"mkverr.pdf\")"
   ]
  },
  {
   "cell_type": "markdown",
   "metadata": {},
   "source": [
    "#### Moving average"
   ]
  },
  {
   "cell_type": "code",
   "execution_count": null,
   "metadata": {},
   "outputs": [],
   "source": [
    "#*Change\n",
    "# Noise = ODH-Model\n",
    "Noise = hcat(mymvavg(dfodh[!,\"0-9\"][ti:todh-1]) - Zpts[1,1:todh-ti],\n",
    "         mymvavg(dfodh[!,\"10-19\"][ti:todh-1]) - Zpts[2,1:todh-ti],\n",
    "         mymvavg(dfodh[!,\"20-29\"][ti:todh-1]) - Zpts[3,1:todh-ti],\n",
    "         mymvavg(dfodh[!,\"30-39\"][ti:todh-1]) - Zpts[4,1:todh-ti],\n",
    "         mymvavg(dfodh[!,\"40-49\"][ti:todh-1]) - Zpts[5,1:todh-ti],\n",
    "         mymvavg(dfodh[!,\"50-59\"][ti:todh-1]) - Zpts[6,1:todh-ti],\n",
    "         mymvavg(dfodh[!,\"60-69\"][ti:todh-1]) - Zpts[7,1:todh-ti],\n",
    "         mymvavg(dfodh[!,\"70-79\"][ti:todh-1]) - Zpts[8,1:todh-ti],\n",
    "         mymvavg(dfodh[!,\"80+\"][ti:todh-1]) - Zpts[9,1:todh-ti]);\n",
    "Noiseᵗʳ = copy(transpose(Noise));\n",
    "\n",
    "# Array of Present and Future errors\n",
    "Mkverr = [Noiseᵗʳ[:,1:end-1][:] Noiseᵗʳ[:,2:end][:]]\n",
    "\n",
    "# Plot Markov error distribution\n",
    "histogram2d(Mkverr[:,1],Mkverr[:,2],xlabel=\"Present Noise\",ylabel=\"Future Noise\",title=\"Noise Distribution about Best Fit (mvavg)\")\n",
    "savefig(\"mkverr_mvavg.pdf\")"
   ]
  },
  {
   "cell_type": "markdown",
   "metadata": {},
   "source": [
    "### Plot the solution with ODH data\n",
    "Immediate next cell computes quantiles of MCMC trajectories without their standard deviation. Switch to markdown and comment out the plot! lines for quantiles in the 2nd next cell if not desired."
   ]
  },
  {
   "cell_type": "code",
   "execution_count": null,
   "metadata": {},
   "outputs": [],
   "source": [
    "# Load trajectories on all samples for MCMC quantiles\n",
    "using Statistics\n",
    "Mtrajs = 0;\n",
    "qttaxis=0;\n",
    "for i=idbeg:idend\n",
    "    df = CSV.read(\"Run\"*string(i)*\"/GibbsTrajs.csv\",DataFrame,header=false);\n",
    "    Mtrajs = (i == idbeg) ? convert(Matrix,df[:,2:end]) : [Mtrajs convert(Matrix,df[:,2:end])];\n",
    "    qttaxis = (i == idend) ? df[!,1] : 0;\n",
    "end\n",
    "Mᵗʳ = copy(transpose(Mtrajs)); # copy makes it genuine matrix\n",
    "dwnsmp = Int64(length(qttaxis)/9);\n",
    "# Compute the quantiles\n",
    "Mquants = Matrix{Float64}(undef,9*dwnsmp,2);\n",
    "for i=1:9*dwnsmp\n",
    "    Mquants[i,:] = [quantile!(Mᵗʳ[:,i],(1-qthresh)/2) quantile!(Mᵗʳ[:,i],1-(1-qthresh)/2)];\n",
    "end\n",
    "quantlow = reshape(Mquants[:,1],dwnsmp,9); quanthigh = reshape(Mquants[:,2],dwnsmp,9);\n",
    "mycolor = :red; # Color for MCMC bands"
   ]
  },
  {
   "cell_type": "code",
   "execution_count": null,
   "metadata": {},
   "outputs": [],
   "source": [
    "# Compute the error bands which include ind incr error\n",
    "σs = M_mcmc[177,:];\n",
    "avgσ = sum(σs)/length(σs); \n",
    "confσ = quantile!(σs,σthresh);\n",
    "Δσs = flagΔpt ? M_mcmc[187,:] : [NaN];\n",
    "confΔσ = flagΔpt ? quantile!(Δσs,σthresh) : NaN;\n",
    "days = dayi-day0;\n",
    "\n",
    "σMᵗʳ_high = deepcopy(Mᵗʳ); # each row is trajectory, cols are 9*dwnsmp samples of a traj\n",
    "σMᵗʳ_low = deepcopy(Mᵗʳ);\n",
    "ntrajs = size(Mᵗʳ)[1];\n",
    "\n",
    "# Loop over all mcmc smp's, age groups, days and include their own errors\n",
    "gen = [1,1,0];\n",
    "varnow = 0.; ptid = Inf; Δσnow = 0.; # declare for local scope issues\n",
    "for k=1:ntrajs*9*dwnsmp\n",
    "    # cycle generator: \n",
    "    #  1st comp is MCMC smp, 2nd comp is age, 3rd comp is time\n",
    "    if gen[3] != dwnsmp\n",
    "        gen[3] += 1;\n",
    "    elseif gen[2] != 9\n",
    "        gen[2] += 1; gen[3] = 1;\n",
    "    else\n",
    "        gen[1] += 1; gen[2] = 1; gen[3] = 1;\n",
    "    end\n",
    "    \n",
    "    smp = gen[1]; aid = gen[2]; tid = gen[3];\n",
    "    col = (aid-1)*dwnsmp+tid;\n",
    "    \n",
    "    # Update the var and Δpt info as needed\n",
    "    if tid == 1\n",
    "        # Reset var if new age group\n",
    "        varnow = 0.;\n",
    "        \n",
    "        # Find new Δpt value if new sample\n",
    "        if flagΔpt&&(aid == 1)\n",
    "            Δptbest = M_mcmc[182,smp]; Δσnow = M_mcmc[187,smp];\n",
    "            ptid = floor(Δptbest - days.value); ptid = (ptid > length(quantlow[:,1])-1) ? length(quantlow[:,1])-1 : ptid;\n",
    "        end\n",
    "    end\n",
    "    \n",
    "    # Determine the appropriate std dev across change point\n",
    "    σnow = M_mcmc[177,smp];\n",
    "    if !flagΔpt\n",
    "        varnow += σnow^2; #does var need to start at 0? now it starts at not 0\n",
    "    else\n",
    "        varnow = (tid <= ptid) ? varnow + σnow^2 : varnow + Δσnow^2; \n",
    "    end\n",
    "    \n",
    "    # Compute errors\n",
    "    σMᵗʳ_high[smp,col] += 2*√(varnow);\n",
    "    σMᵗʳ_low[smp,col]  -= 2*√(varnow);\n",
    "    σMᵗʳ_low[smp,col]  = maximum([σMᵗʳ_low[smp,col],0.]);\n",
    "end\n",
    "    \n",
    "# Compute the σthresh quantiles for these\n",
    "σMquants = Matrix{Float64}(undef,9*dwnsmp,2);\n",
    "for i=1:9*dwnsmp\n",
    "    σMquants[i,:] = [quantile!(σMᵗʳ_low[:,i],(1-qthresh)/2) quantile!(σMᵗʳ_high[:,i],1-(1-qthresh)/2)];\n",
    "end\n",
    "σquantlow = reshape(σMquants[:,1],dwnsmp,9); σquanthigh = reshape(σMquants[:,2],dwnsmp,9);\n",
    "myσcolor = :blue; # Color for σMCMC bands"
   ]
  },
  {
   "cell_type": "code",
   "execution_count": null,
   "metadata": {},
   "outputs": [],
   "source": [
    "#* Change\n",
    "# Plot the data\n",
    "ymax = maximum(convert(Matrix,dfodh[ti:todh,2:end-2])) + 10;\n",
    "p1 = plot(ti:todh,dfodh[!,\"0-9\"][ti:todh],labels=\"ODH\",title=\"0-9\"); plot!(ti:todh,mymvavg(dfodh[!,\"0-9\"][ti:todh]),labels=\"ODH Smooth\"); #plot!(ti:(tf-1),Zpts[1,:],labels=\"Model\",ribbon=2*myaux[:bayσ],fillalpha=.3,ylims=(0.,ymax)); \n",
    "quantmean = .5*quantlow[:,1] + .5*quanthigh[:,1]\n",
    "plot!(qttaxis[1:dwnsmp], quantmean, ribbon=(quantmean-quantlow[:,1],quanthigh[:,1]-quantmean),ylims=(0.,ymax), labels=\"MCMC Mean\", fillalpha=.2, color=mycolor);vline!([tfit],labels=\"\");\n",
    "plot!(qttaxis[1:dwnsmp], quantmean, ribbon=(quantmean-σquantlow[:,1],σquanthigh[:,1]-quantmean),ylims=(0.,ymax), labels=\"Inc Error\", fillalpha=.2, color=myσcolor);\n",
    "\n",
    "p2 = plot(ti:todh,dfodh[!,\"10-19\"][ti:todh],labels=\"ODH\",title=\"10-19\"); plot!(ti:todh,mymvavg(dfodh[!,\"10-19\"][ti:todh]),labels=\"ODH Smooth\"); #plot!(ti:(tf-1),Zpts[2,:],labels=\"Model\",ribbon=2*myaux[:bayσ],fillalpha=.3,ylims=(0.,ymax)); vline!([tm],labels=\"\");\n",
    "quantmean = .5*quantlow[:,2] + .5*quanthigh[:,2]\n",
    "plot!(qttaxis[1:dwnsmp], quantmean, ribbon=(quantmean-quantlow[:,2],quanthigh[:,2]-quantmean),ylims=(0.,ymax), labels=\"MCMC Mean\", fillalpha=.2, color=mycolor);vline!([tfit],labels=\"\");\n",
    "plot!(qttaxis[1:dwnsmp], quantmean, ribbon=(quantmean-σquantlow[:,2],σquanthigh[:,2]-quantmean),ylims=(0.,ymax), labels=\"Inc Error\", fillalpha=.2, color=myσcolor);\n",
    "\n",
    "p3 = plot(ti:todh,dfodh[!,\"20-29\"][ti:todh],labels=\"ODH\",title=\"20-29\"); plot!(ti:todh,mymvavg(dfodh[!,\"20-29\"][ti:todh]),labels=\"ODH Smooth\"); #plot!(ti:(tf-1),Zpts[3,:],labels=\"Model\",ribbon=2*myaux[:bayσ],fillalpha=.3,ylims=(0.,ymax)); vline!([tm],labels=\"\");\n",
    "quantmean = .5*quantlow[:,3] + .5*quanthigh[:,3]\n",
    "plot!(qttaxis[1:dwnsmp], quantmean, ribbon=(quantmean-quantlow[:,3],quanthigh[:,3]-quantmean),ylims=(0.,ymax), labels=\"MCMC Mean\", fillalpha=.2, color=mycolor);vline!([tfit],labels=\"\");\n",
    "plot!(qttaxis[1:dwnsmp], quantmean, ribbon=(quantmean-σquantlow[:,3],σquanthigh[:,3]-quantmean),ylims=(0.,ymax), labels=\"Inc Error\", fillalpha=.2, color=myσcolor);\n",
    "\n",
    "p4 = plot(ti:todh,dfodh[!,\"30-39\"][ti:todh],labels=\"ODH\",title=\"30-39\"); plot!(ti:todh,mymvavg(dfodh[!,\"30-39\"][ti:todh]),labels=\"ODH Smooth\"); #plot!(ti:(tf-1),Zpts[4,:],labels=\"Model\",ribbon=2*myaux[:bayσ],fillalpha=.3,ylims=(0.,ymax)); vline!([tm],labels=\"\");\n",
    "quantmean = .5*quantlow[:,4] + .5*quanthigh[:,4]\n",
    "plot!(qttaxis[1:dwnsmp], quantmean, ribbon=(quantmean-quantlow[:,4],quanthigh[:,4]-quantmean),ylims=(0.,ymax), labels=\"MCMC Mean\", fillalpha=.2, color=mycolor);vline!([tfit],labels=\"\");\n",
    "plot!(qttaxis[1:dwnsmp], quantmean, ribbon=(quantmean-σquantlow[:,4],σquanthigh[:,4]-quantmean),ylims=(0.,ymax), labels=\"Inc Error\", fillalpha=.2, color=myσcolor);\n",
    "\n",
    "p5 = plot(ti:todh,dfodh[!,\"40-49\"][ti:todh],labels=\"ODH\",title=\"40-49\"); plot!(ti:todh,mymvavg(dfodh[!,\"40-49\"][ti:todh]),labels=\"ODH Smooth\");# plot!(ti:(tf-1),Zpts[5,:],labels=\"Model\",ribbon=2*myaux[:bayσ],fillalpha=.3,ylims=(0.,ymax)); vline!([tm],labels=\"\");\n",
    "quantmean = .5*quantlow[:,5] + .5*quanthigh[:,5]\n",
    "plot!(qttaxis[1:dwnsmp], quantmean, ribbon=(quantmean-quantlow[:,5],quanthigh[:,5]-quantmean),ylims=(0.,ymax), labels=\"MCMC Mean\", fillalpha=.2, color=mycolor);vline!([tfit],labels=\"\");\n",
    "plot!(qttaxis[1:dwnsmp], quantmean, ribbon=(quantmean-σquantlow[:,5],σquanthigh[:,5]-quantmean),ylims=(0.,ymax), labels=\"Inc Error\", fillalpha=.2, color=myσcolor);\n",
    "\n",
    "p6 = plot(ti:todh,dfodh[!,\"50-59\"][ti:todh],labels=\"ODH\",title=\"50-59\"); plot!(ti:todh,mymvavg(dfodh[!,\"50-59\"][ti:todh]),labels=\"ODH Smooth\"); #plot!(ti:(tf-1),Zpts[6,:],labels=\"Model\",ribbon=2*myaux[:bayσ],fillalpha=.3,ylims=(0.,ymax)); vline!([tm],labels=\"\");\n",
    "quantmean = .5*quantlow[:,6] + .5*quanthigh[:,6]\n",
    "plot!(qttaxis[1:dwnsmp], quantmean, ribbon=(quantmean-quantlow[:,6],quanthigh[:,6]-quantmean),ylims=(0.,ymax), labels=\"MCMC Mean\", fillalpha=.2, color=mycolor);vline!([tfit],labels=\"\");\n",
    "plot!(qttaxis[1:dwnsmp], quantmean, ribbon=(quantmean-σquantlow[:,6],σquanthigh[:,6]-quantmean),ylims=(0.,ymax), labels=\"Inc Error\", fillalpha=.2, color=myσcolor);\n",
    "\n",
    "p7 = plot(ti:todh,dfodh[!,\"60-69\"][ti:todh],labels=\"ODH\",title=\"60-69\"); plot!(ti:todh,mymvavg(dfodh[!,\"60-69\"][ti:todh]),labels=\"ODH Smooth\"); #plot!(ti:(tf-1),Zpts[7,:],labels=\"Model\",ribbon=2*myaux[:bayσ],fillalpha=.3,ylims=(0.,ymax)); vline!([tm],labels=\"\");\n",
    "quantmean = .5*quantlow[:,7] + .5*quanthigh[:,7]\n",
    "plot!(qttaxis[1:dwnsmp], quantmean, ribbon=(quantmean-quantlow[:,7],quanthigh[:,7]-quantmean),ylims=(0.,ymax), labels=\"MCMC Mean\", fillalpha=.2, color=mycolor);vline!([tm],labels=\"\");\n",
    "plot!(qttaxis[1:dwnsmp], quantmean, ribbon=(quantmean-σquantlow[:,7],σquanthigh[:,7]-quantmean),ylims=(0.,ymax), labels=\"Inc Error\", fillalpha=.2, color=myσcolor);\n",
    "\n",
    "p8 = plot(ti:todh,dfodh[!,\"70-79\"][ti:todh],labels=\"ODH\",title=\"70-79\"); plot!(ti:todh,mymvavg(dfodh[!,\"70-79\"][ti:todh]),labels=\"ODH Smooth\"); #plot!(ti:(tf-1),Zpts[8,:],labels=\"Model\",ribbon=2*myaux[:bayσ],fillalpha=.3,ylims=(0.,ymax)); vline!([tm],labels=\"\");\n",
    "quantmean = .5*quantlow[:,8] + .5*quanthigh[:,8]\n",
    "plot!(qttaxis[1:dwnsmp], quantmean, ribbon=(quantmean-quantlow[:,8],quanthigh[:,8]-quantmean),ylims=(0.,ymax), labels=\"MCMC Mean\", fillalpha=.2, color=mycolor);vline!([tfit],labels=\"\");\n",
    "plot!(qttaxis[1:dwnsmp], quantmean, ribbon=(quantmean-σquantlow[:,8],σquanthigh[:,8]-quantmean),ylims=(0.,ymax), labels=\"Inc Error\", fillalpha=.2, color=myσcolor);\n",
    "\n",
    "p9 = plot(ti:todh,dfodh[!,\"80+\"][ti:todh],labels=\"ODH\",title=\"80+\"); plot!(ti:todh,mymvavg(dfodh[!,\"80+\"][ti:todh]),labels=\"ODH Smooth\"); #plot!(ti:(tf-1),Zpts[9,:],labels=\"Model\",ribbon=2*myaux[:bayσ],fillalpha=.3,ylims=(0.,ymax)); vline!([tm],labels=\"\");\n",
    "quantmean = .5*quantlow[:,9] + .5*quanthigh[:,9]\n",
    "plot!(qttaxis[1:dwnsmp], quantmean, ribbon=(quantmean-quantlow[:,9],quanthigh[:,9]-quantmean),ylims=(0.,ymax), labels=\"MCMC Mean\", fillalpha=.2, color=mycolor);vline!([tfit],labels=\"\");\n",
    "plot!(qttaxis[1:dwnsmp], quantmean, ribbon=(quantmean-σquantlow[:,9],σquanthigh[:,9]-quantmean),ylims=(0.,ymax), labels=\"Inc Error\", fillalpha=.2, color=myσcolor);\n",
    "\n",
    "println(\"Dates run from $dayi to $dayf while simulated up to $daym\")\n",
    "lay = @layout [a b c; d e f; g h i];\n",
    "plot(p1,p2,p3,p4,p5,p6,p7,p8,p9, layout=lay, size = (1000,650))\n",
    "savefig(\"prediction.pdf\")"
   ]
  },
  {
   "cell_type": "code",
   "execution_count": null,
   "metadata": {},
   "outputs": [],
   "source": [
    "ENV[\"COLUMNS\"] = 1000; ENV[\"ROWS\"] = 1000;\n",
    "println(\"Best parameters:\")\n",
    "df = DataFrame(Dict{String,Float64}(\"L1 Err\"=>M_err[idbest],\"r0\"=>M_mcmc[12,idbest],\n",
    "                                    \"α\"=>M_mcmc[31,idbest],\"ω\"=>M_mcmc[32,idbest],\n",
    "                                    \"rptλ\"=>M_mcmc[176,idbest],\"bayσ\"=>M_mcmc[177,idbest],\n",
    "                                    \"vι0\"=>M_mcmc[179,idbest],\n",
    "                                    \"rptλE\"=>M_mcmc[180,idbest],\"rptλI\"=>M_mcmc[181,idbest],\n",
    "                                    \"Δpt\"=>M_mcmc[182,idbest],\"Δr0\"=>M_mcmc[183,idbest],\n",
    "                                    \"Δα\"=>M_mcmc[184,idbest],\"Δω\"=>M_mcmc[185,idbest],\n",
    "                                    \"Δrptλ\"=>M_mcmc[186,idbest],\"Δbayσ\"=>M_mcmc[187,idbest]))"
   ]
  },
  {
   "cell_type": "markdown",
   "metadata": {},
   "source": [
    "## Collect marginal distributions"
   ]
  },
  {
   "cell_type": "code",
   "execution_count": null,
   "metadata": {
    "scrolled": true
   },
   "outputs": [],
   "source": [
    "p1 = histogram(M_mcmc[12,:],normalize=:probability, labels=\"\", title=\"r0\"); #r0\n",
    "p2 = histogram(M_mcmc[31,:],normalize=:probability, labels=\"\", title=\"α\"); #α\n",
    "p3 = histogram(M_mcmc[32,:],normalize=:probability, labels=\"\", title = \"ω\"); #ω\n",
    "p4 = histogram(M_mcmc[176,:],normalize=:probability, labels=\"\", title=\"rptλ\"); #rptλ\n",
    "p5 = histogram(M_mcmc[177,:],normalize=:probability, labels=\"\", title=\"bayσ\"); #bayσ\n",
    "#p6 = histogram(M_err,normalize=:probability, labels=\"\", title=\"MSE\"); #L1 Err\n",
    "p7 = histogram(M_mcmc[179,:],normalize=:probability,labels=\"\",title=\"vι0\"); #vι0\n",
    "#p8 = histogram(M_mcmc[180,:],normalize=:probability,labels=\"\",title=\"rptλE\"); #rptλE\n",
    "#p9 = histogram(M_mcmc[181,:],normalize=:probability,labels=\"\",title=\"rptλI\"); #rptλI\n",
    "#p10 = histogram(M_mcmc[182,:],normalize=:probability,labels=\"\",title=\"Δt\"); #Δt\n",
    "#p11 = histogram(M_mcmc[183,:],normalize=:probability,labels=\"\",title=\"r0λ\"); #r0λ\n",
    "\n",
    "lay = @layout [a b;c d; e f];\n",
    "plot(p2,p3,p1,p4,p5,p7, layout=lay, size=(850,425))\n",
    "savefig(\"marginals.pdf\")"
   ]
  },
  {
   "cell_type": "code",
   "execution_count": null,
   "metadata": {},
   "outputs": [],
   "source": [
    "# Change point marginals\n",
    "if flagΔpt\n",
    "    p1 = histogram(M_mcmc[183,:],normalize=:probability, labels=\"\", title=\"Δr0\"); #r0\n",
    "    p2 = histogram(M_mcmc[184,:],normalize=:probability, labels=\"\", title=\"Δα\"); #α\n",
    "    p3 = histogram(M_mcmc[185,:],normalize=:probability, labels=\"\", title = \"Δω\"); #ω\n",
    "    p4 = histogram(M_mcmc[186,:],normalize=:probability, labels=\"\", title=\"Δrptλ\"); #rptλ\n",
    "    p5 = histogram(M_mcmc[187,:],normalize=:probability, labels=\"\", title=\"Δbayσ\"); #bayσ\n",
    "    #  If Δpt was Infty substitute dummy plot for histogram\n",
    "    p7 = (minimum(M_mcmc[182,:]) != Inf) ? histogram(M_mcmc[182,:],normalize=:probability,labels=\"\",title=\"Δpt\") : plot([0.,0.],[0.,0.],labels=\"\",title=\"Did not run Δpt\") ; #Δpt\n",
    "    \n",
    "    lay = @layout [g h; a b; c d];\n",
    "    plot(p7,p5,p2,p3,p1,p4, layout=lay, size=(850,425))\n",
    "    savefig(\"marginals_dltpt.pdf\")\n",
    "end"
   ]
  },
  {
   "cell_type": "markdown",
   "metadata": {},
   "source": [
    "## Trace Plots"
   ]
  },
  {
   "cell_type": "code",
   "execution_count": null,
   "metadata": {},
   "outputs": [],
   "source": [
    "q1 = plot(M_mcmc[12,1:nstep:end],labels=\"\", title=\"r0\"); #r0\n",
    "q2 = plot(M_mcmc[31,1:nstep:end],labels=\"\", title=\"α\"); #α\n",
    "q3 = plot(M_mcmc[32,1:nstep:end],labels=\"\", title = \"ω\"); #ω\n",
    "q4 = plot(M_mcmc[176,1:nstep:end],labels=\"\", title=\"rptλ\"); #rptλ\n",
    "q5 = plot(M_mcmc[177,1:nstep:end],labels=\"\", title=\"bayσ\"); #bayσ\n",
    "#q6 = plot(M_err,labels=\"\",title=\"MSE\")\n",
    "q7 = plot(M_mcmc[179,1:nstep:end],labels=\"\",title=\"vι0\"); #vι0\n",
    "#q8 = plot(M_mcmc[180,:],labels=\"\",title=\"rptλE\"); #rptλE\n",
    "#q9 = plot(M_mcmc[181,:],labels=\"\",title=\"rptλI\"); #rptλI\n",
    "#q10 = plot(M_mcmc[182,:],labels=\"\",title=\"Δt\"); #Δt\n",
    "#q11 = plot(M_mcmc[183,:],labels=\"\",title=\"r0λ\"); #r0λ\n",
    "\n",
    "lay = @layout [a b;c d; e f];\n",
    "plot(q2,q3,q1,q4,q5,q7, layout=lay, size=(850,425))\n",
    "savefig(\"trace.pdf\")"
   ]
  },
  {
   "cell_type": "code",
   "execution_count": null,
   "metadata": {},
   "outputs": [],
   "source": [
    "# Change point trace plots\n",
    "if flagΔpt\n",
    "    q1 = plot(M_mcmc[183,1:nstep:end],labels=\"\", title=\"Δr0\"); #r0\n",
    "    q2 = plot(M_mcmc[184,1:nstep:end],labels=\"\", title=\"Δα\"); #α\n",
    "    q3 = plot(M_mcmc[185,1:nstep:end],labels=\"\", title = \"Δω\"); #ω\n",
    "    q4 = plot(M_mcmc[186,1:nstep:end],labels=\"\", title=\"Δrptλ\"); #rptλ\n",
    "    q5 = plot(M_mcmc[187,1:nstep:end],labels=\"\", title=\"Δbayσ\"); #rptλ\n",
    "    q7 = plot(M_mcmc[182,1:nstep:end],labels=\"\",title=\"Δpt\"); #Δpt\n",
    "    \n",
    "    lay = @layout [g h; a b; c d];\n",
    "    plot(q7,q5,q2,q3,q1,q4, layout=lay, size=(850,425))\n",
    "    savefig(\"trace_dltpt.pdf\")\n",
    "end"
   ]
  }
 ],
 "metadata": {
  "kernelspec": {
   "display_name": "Julia 1.6.0",
   "language": "julia",
   "name": "julia-1.6"
  },
  "language_info": {
   "file_extension": ".jl",
   "mimetype": "application/julia",
   "name": "julia",
   "version": "1.6.0"
  }
 },
 "nbformat": 4,
 "nbformat_minor": 2
}
